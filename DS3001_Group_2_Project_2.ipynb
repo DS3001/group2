{
  "nbformat": 4,
  "nbformat_minor": 0,
  "metadata": {
    "colab": {
      "provenance": [],
      "authorship_tag": "ABX9TyM8ezZdqW9EPMvftx77n9M8",
      "include_colab_link": true
    },
    "kernelspec": {
      "name": "python3",
      "display_name": "Python 3"
    },
    "language_info": {
      "name": "python"
    }
  },
  "cells": [
    {
      "cell_type": "markdown",
      "metadata": {
        "id": "view-in-github",
        "colab_type": "text"
      },
      "source": [
        "<a href=\"https://colab.research.google.com/github/DS3001/group2/blob/main/DS3001_Group_2_Project_2.ipynb\" target=\"_parent\"><img src=\"https://colab.research.google.com/assets/colab-badge.svg\" alt=\"Open In Colab\"/></a>"
      ]
    },
    {
      "cell_type": "markdown",
      "source": [
        "# Project 2 - Stroke\n",
        "**Group 2: Elaine Zhang**\n"
      ],
      "metadata": {
        "id": "LAuS20AkkUIW"
      }
    },
    {
      "cell_type": "code",
      "source": [
        "# imports\n",
        "import pandas as pd\n",
        "import numpy as np"
      ],
      "metadata": {
        "id": "e9cKv7yblKuI"
      },
      "execution_count": 2,
      "outputs": []
    },
    {
      "cell_type": "markdown",
      "source": [
        "### Data Cleaning"
      ],
      "metadata": {
        "id": "Qa6iXHUqkgA_"
      }
    },
    {
      "cell_type": "code",
      "source": [
        "training_data = pd.read_csv('training_data.csv')\n",
        "testing_data = pd.read_csv('testing_data.csv')\n",
        "training_data.columns"
      ],
      "metadata": {
        "id": "8pJd3M8okYuF",
        "outputId": "5d45749a-ecda-4168-f145-243a54fc2aa7",
        "colab": {
          "base_uri": "https://localhost:8080/"
        }
      },
      "execution_count": 13,
      "outputs": [
        {
          "output_type": "execute_result",
          "data": {
            "text/plain": [
              "Index(['Unnamed: 0', 'id', 'gender', 'age', 'hypertension', 'heart_disease',\n",
              "       'ever_married', 'work_type', 'Residence_type', 'avg_glucose_level',\n",
              "       'bmi', 'smoking_status', 'stroke'],\n",
              "      dtype='object')"
            ]
          },
          "metadata": {},
          "execution_count": 13
        }
      ]
    },
    {
      "cell_type": "code",
      "source": [
        "print('Training size', training_data.shape)\n",
        "print('Testing size', testing_data.shape)"
      ],
      "metadata": {
        "id": "RZW4HDyslsEc",
        "outputId": "7471885a-ab6a-48bb-a9dd-37a9d2947728",
        "colab": {
          "base_uri": "https://localhost:8080/"
        }
      },
      "execution_count": 14,
      "outputs": [
        {
          "output_type": "stream",
          "name": "stdout",
          "text": [
            "Training size (4087, 13)\n",
            "Testing size (1023, 13)\n"
          ]
        }
      ]
    },
    {
      "cell_type": "code",
      "source": [
        "# Missing values?\n",
        "print(\"Training NaN --\")\n",
        "nan_details = training_data.isnull().sum()\n",
        "for column, value in nan_details.items():\n",
        "  if (value != 0):\n",
        "    print(column, value)\n",
        "\n",
        "print(\"Testing NaN --\")\n",
        "nan_details = testing_data.isnull().sum()\n",
        "for column, value in nan_details.items():\n",
        "  if (value != 0):\n",
        "    print(column, value)"
      ],
      "metadata": {
        "id": "Z1yIo3wbliup",
        "outputId": "45bf4fec-820d-446e-e358-34a7c27bc60c",
        "colab": {
          "base_uri": "https://localhost:8080/"
        }
      },
      "execution_count": 12,
      "outputs": [
        {
          "output_type": "stream",
          "name": "stdout",
          "text": [
            "Training NaN --\n",
            "bmi 159\n",
            "Testing NaN --\n",
            "bmi 42\n"
          ]
        }
      ]
    },
    {
      "cell_type": "code",
      "source": [],
      "metadata": {
        "id": "QhRdijOdmXSp"
      },
      "execution_count": null,
      "outputs": []
    },
    {
      "cell_type": "markdown",
      "source": [
        "### Data Visualization"
      ],
      "metadata": {
        "id": "RGnnY2askj5o"
      }
    },
    {
      "cell_type": "code",
      "source": [],
      "metadata": {
        "id": "GnFRo-V-kl-t"
      },
      "execution_count": null,
      "outputs": []
    }
  ]
}